{
  "cells": [
    {
      "cell_type": "code",
      "source": [
        "from google.colab import drive\n",
        "drive.mount('/content/drive')"
      ],
      "metadata": {
        "id": "rRP8mCR5koOB"
      },
      "execution_count": null,
      "outputs": []
    },
    {
      "cell_type": "code",
      "execution_count": null,
      "metadata": {
        "_cell_guid": "b1076dfc-b9ad-4769-8c92-a6c4dae69d19",
        "_uuid": "8f2839f25d086af736a60e9eeb907d3b93b6e0e5",
        "execution": {
          "iopub.execute_input": "2022-09-18T18:16:32.616286Z",
          "iopub.status.busy": "2022-09-18T18:16:32.615362Z",
          "iopub.status.idle": "2022-09-18T18:16:56.781755Z",
          "shell.execute_reply": "2022-09-18T18:16:56.781014Z",
          "shell.execute_reply.started": "2022-09-18T18:16:32.616244Z"
        },
        "id": "8EeRs2rJjyay"
      },
      "outputs": [],
      "source": [
        "# This Python 3 environment comes with many helpful analytics libraries installed\n",
        "# It is defined by the kaggle/python Docker image: https://github.com/kaggle/docker-python\n",
        "# For example, here's several helpful packages to load\n",
        "\n",
        "# import numpy as np # linear algebra\n",
        "# import pandas as pd # data processing, CSV file I/O (e.g. pd.read_csv)\n",
        "\n",
        "# Input data files are available in the read-only \"../input/\" directory\n",
        "# For example, running this (by clicking run or pressing Shift+Enter) will list all files under the input directory\n",
        "\n",
        "# import os\n",
        "# for dirname, _, filenames in os.walk('/kaggle/input'):\n",
        "#     for filename in filenames:\n",
        "#         print(os.path.join(dirname, filename))\n",
        "\n",
        "# You can write up to 20GB to the current directory (/kaggle/working/) that gets preserved as output when you create a version using \"Save & Run All\" \n",
        "# You can also write temporary files to /kaggle/temp/, but they won't be saved outside of the current session"
      ]
    },
    {
      "cell_type": "code",
      "source": [
        "import os\n",
        "import numpy as np\n",
        "import pandas as pd\n",
        "from tensorflow import keras\n",
        "from keras.preprocessing.image import load_img\n",
        "from keras.preprocessing.image import img_to_array\n",
        "import keras.models as models\n",
        "import keras.layers as layers\n",
        "from keras import backend"
      ],
      "metadata": {
        "id": "bF-tRjOS7Myw"
      },
      "execution_count": null,
      "outputs": []
    },
    {
      "cell_type": "code",
      "source": [
        "! unzip /content/drive/MyDrive/planet-understanding-the-amazon-from-space.zip"
      ],
      "metadata": {
        "id": "hJrt5MwFkL3V"
      },
      "execution_count": null,
      "outputs": []
    },
    {
      "cell_type": "code",
      "source": [
        "! unzip /content/drive/MyDrive/planet-mini.zip"
      ],
      "metadata": {
        "id": "nh9Ft9w0mthH"
      },
      "execution_count": null,
      "outputs": []
    },
    {
      "cell_type": "code",
      "execution_count": null,
      "metadata": {
        "execution": {
          "iopub.execute_input": "2022-09-18T18:16:56.784229Z",
          "iopub.status.busy": "2022-09-18T18:16:56.783672Z",
          "iopub.status.idle": "2022-09-18T18:16:56.842282Z",
          "shell.execute_reply": "2022-09-18T18:16:56.841359Z",
          "shell.execute_reply.started": "2022-09-18T18:16:56.784195Z"
        },
        "id": "bt69-uzgjya9"
      },
      "outputs": [],
      "source": [
        "train_label =pd.read_csv('/content/train_v2.csv/train_v2.csv')"
      ]
    },
    {
      "cell_type": "code",
      "execution_count": null,
      "metadata": {
        "execution": {
          "iopub.execute_input": "2022-09-18T18:16:56.844217Z",
          "iopub.status.busy": "2022-09-18T18:16:56.843850Z",
          "iopub.status.idle": "2022-09-18T18:16:56.861832Z",
          "shell.execute_reply": "2022-09-18T18:16:56.860806Z",
          "shell.execute_reply.started": "2022-09-18T18:16:56.844180Z"
        },
        "id": "0TmBVWXmjya9"
      },
      "outputs": [],
      "source": [
        "train_label.head()"
      ]
    },
    {
      "cell_type": "code",
      "execution_count": null,
      "metadata": {
        "execution": {
          "iopub.execute_input": "2022-09-18T18:16:56.863921Z",
          "iopub.status.busy": "2022-09-18T18:16:56.863558Z",
          "iopub.status.idle": "2022-09-18T18:16:56.872616Z",
          "shell.execute_reply": "2022-09-18T18:16:56.871542Z",
          "shell.execute_reply.started": "2022-09-18T18:16:56.863886Z"
        },
        "id": "yLHypDiAjya-"
      },
      "outputs": [],
      "source": [
        "train_label.shape"
      ]
    },
    {
      "cell_type": "code",
      "execution_count": null,
      "metadata": {
        "execution": {
          "iopub.execute_input": "2022-09-18T18:16:56.875368Z",
          "iopub.status.busy": "2022-09-18T18:16:56.874139Z",
          "iopub.status.idle": "2022-09-18T18:16:56.880155Z",
          "shell.execute_reply": "2022-09-18T18:16:56.879085Z",
          "shell.execute_reply.started": "2022-09-18T18:16:56.875330Z"
        },
        "id": "abdGwRGAjya_"
      },
      "outputs": [],
      "source": [
        "Path ='/content/planet/planet/train-jpg'"
      ]
    },
    {
      "cell_type": "code",
      "execution_count": null,
      "metadata": {
        "execution": {
          "iopub.execute_input": "2022-09-18T18:16:56.883777Z",
          "iopub.status.busy": "2022-09-18T18:16:56.883506Z",
          "iopub.status.idle": "2022-09-18T18:16:57.052397Z",
          "shell.execute_reply": "2022-09-18T18:16:57.051483Z",
          "shell.execute_reply.started": "2022-09-18T18:16:56.883751Z"
        },
        "id": "vRaMBkvrjya_"
      },
      "outputs": [],
      "source": [
        "import cv2\n",
        "\n",
        "def DarkChannel(im,sz):\n",
        "    b,g,r = cv2.split(im)\n",
        "    dc = cv2.min(cv2.min(r,g),b);\n",
        "    kernel = cv2.getStructuringElement(cv2.MORPH_RECT,(sz,sz))\n",
        "    dark = cv2.erode(dc,kernel)\n",
        "    return dark\n",
        "\n",
        "def AtmLight(im,dark):\n",
        "    [h,w] = im.shape[:2]\n",
        "    imsz = h*w\n",
        "    numpx = int(max(math.floor(imsz/1000),1))\n",
        "    darkvec = dark.reshape(imsz,1);\n",
        "    imvec = im.reshape(imsz,3);\n",
        "\n",
        "    indices = darkvec.argsort();\n",
        "    indices = indices[imsz-numpx::]\n",
        "\n",
        "    atmsum = np.zeros([1,3])\n",
        "    for ind in range(1,numpx):\n",
        "       atmsum = atmsum + imvec[indices[ind]]\n",
        "\n",
        "    A = atmsum / numpx;\n",
        "    return A\n",
        "\n",
        "def TransmissionEstimate(im,A,sz):\n",
        "    omega = 0.95;\n",
        "    im3 = np.empty(im.shape,im.dtype);\n",
        "\n",
        "    for ind in range(0,3):\n",
        "        im3[:,:,ind] = im[:,:,ind]/A[0,ind]\n",
        "\n",
        "    transmission = 1 - omega*DarkChannel(im3,sz);\n",
        "    return transmission\n",
        "\n",
        "def Guidedfilter(im,p,r,eps):\n",
        "    mean_I = cv2.boxFilter(im,cv2.CV_64F,(r,r));\n",
        "    mean_p = cv2.boxFilter(p, cv2.CV_64F,(r,r));\n",
        "    mean_Ip = cv2.boxFilter(im*p,cv2.CV_64F,(r,r));\n",
        "    cov_Ip = mean_Ip - mean_I*mean_p;\n",
        "\n",
        "    mean_II = cv2.boxFilter(im*im,cv2.CV_64F,(r,r));\n",
        "    var_I   = mean_II - mean_I*mean_I;\n",
        "\n",
        "    a = cov_Ip/(var_I + eps);\n",
        "    b = mean_p - a*mean_I;\n",
        "\n",
        "    mean_a = cv2.boxFilter(a,cv2.CV_64F,(r,r));\n",
        "    mean_b = cv2.boxFilter(b,cv2.CV_64F,(r,r));\n",
        "\n",
        "    q = mean_a*im + mean_b;\n",
        "    return q;\n",
        "\n",
        "def TransmissionRefine(im,et):\n",
        "    gray = cv2.cvtColor(im,cv2.COLOR_BGR2GRAY);\n",
        "    gray = np.float64(gray)/255;\n",
        "    r = 60;\n",
        "    eps = 0.0001;\n",
        "    t = Guidedfilter(gray,et,r,eps);\n",
        "\n",
        "    return t;\n",
        "\n",
        "def Recover(im,t,A,tx = 0.1):\n",
        "    res = np.empty(im.shape,im.dtype);\n",
        "    t = cv2.max(t,tx);\n",
        "\n",
        "    for ind in range(0,3):\n",
        "        res[:,:,ind] = (im[:,:,ind]-A[0,ind])/t + A[0,ind]\n",
        "\n",
        "    return res\n",
        "\n",
        "# CUSTOM\n",
        "def cv2_to_plt(image):\n",
        "    return cv2.cvtColor(image, cv2.COLOR_BGR2RGB)\n",
        "\n",
        "def dehaze(image_path:Path, output_path:Path):\n",
        "    src = cv2.imread(str(image_path))\n",
        "\n",
        "    I = src.astype('float64')/255\n",
        "    dark = DarkChannel(I,15)\n",
        "    A = AtmLight(I,dark)\n",
        "    te = TransmissionEstimate(I,A,15)\n",
        "    t = TransmissionRefine(src,te)\n",
        "    J = Recover(I,t,A,0.1)\n",
        "    \n",
        "    cv2.imwrite(str(output_path/image_path.name), J*255);"
      ]
    },
    {
      "cell_type": "code",
      "execution_count": null,
      "metadata": {
        "execution": {
          "iopub.execute_input": "2022-09-18T18:16:57.056493Z",
          "iopub.status.busy": "2022-09-18T18:16:57.056185Z",
          "iopub.status.idle": "2022-09-18T18:16:57.152796Z",
          "shell.execute_reply": "2022-09-18T18:16:57.149457Z",
          "shell.execute_reply.started": "2022-09-18T18:16:57.056448Z"
        },
        "id": "rfluyqZdjybB"
      },
      "outputs": [],
      "source": [
        "import math\n",
        "fn = '/content/planet/planet/train-jpg/train_10.jpg'\n",
        "\n",
        "src = cv2.imread(fn)\n",
        "\n",
        "I = src.astype('float64')/255\n",
        "\n",
        "dark = DarkChannel(I,15)\n",
        "A = AtmLight(I,dark)\n",
        "te = TransmissionEstimate(I,A,15)\n",
        "t = TransmissionRefine(src,te)\n",
        "J = Recover(I,t,A,0.1);"
      ]
    },
    {
      "cell_type": "code",
      "execution_count": null,
      "metadata": {
        "execution": {
          "iopub.execute_input": "2022-09-18T18:16:57.158395Z",
          "iopub.status.busy": "2022-09-18T18:16:57.157888Z",
          "iopub.status.idle": "2022-09-18T18:16:57.514309Z",
          "shell.execute_reply": "2022-09-18T18:16:57.513163Z",
          "shell.execute_reply.started": "2022-09-18T18:16:57.158357Z"
        },
        "id": "Gc0sUwwKjybC"
      },
      "outputs": [],
      "source": [
        "import matplotlib.pyplot as plt\n",
        "plt.imshow(dark);"
      ]
    },
    {
      "cell_type": "code",
      "execution_count": null,
      "metadata": {
        "execution": {
          "iopub.execute_input": "2022-09-18T18:16:57.516964Z",
          "iopub.status.busy": "2022-09-18T18:16:57.515924Z",
          "iopub.status.idle": "2022-09-18T18:16:57.917590Z",
          "shell.execute_reply": "2022-09-18T18:16:57.916654Z",
          "shell.execute_reply.started": "2022-09-18T18:16:57.516925Z"
        },
        "id": "kOq7nd_ZjybD"
      },
      "outputs": [],
      "source": [
        "plt.imshow(cv2_to_plt(src));"
      ]
    },
    {
      "cell_type": "code",
      "execution_count": null,
      "metadata": {
        "execution": {
          "iopub.execute_input": "2022-09-18T18:16:57.927018Z",
          "iopub.status.busy": "2022-09-18T18:16:57.922333Z",
          "iopub.status.idle": "2022-09-18T18:16:58.307223Z",
          "shell.execute_reply": "2022-09-18T18:16:58.306340Z",
          "shell.execute_reply.started": "2022-09-18T18:16:57.926978Z"
        },
        "id": "0LcAlHBAjybE"
      },
      "outputs": [],
      "source": [
        "plt.imshow(cv2_to_plt(J.astype('float32')))"
      ]
    },
    {
      "cell_type": "code",
      "execution_count": null,
      "metadata": {
        "execution": {
          "iopub.execute_input": "2022-09-18T18:17:03.682326Z",
          "iopub.status.busy": "2022-09-18T18:17:03.681107Z",
          "iopub.status.idle": "2022-09-18T18:17:03.717321Z",
          "shell.execute_reply": "2022-09-18T18:17:03.716342Z",
          "shell.execute_reply.started": "2022-09-18T18:17:03.682295Z"
        },
        "id": "5vizre6RjybF"
      },
      "outputs": [],
      "source": [
        "test_df=pd.read_csv('/content/test_v2_file_mapping.csv/test_v2_file_mapping.csv')"
      ]
    },
    {
      "cell_type": "code",
      "execution_count": null,
      "metadata": {
        "id": "i1WEBpy-jybF"
      },
      "outputs": [],
      "source": [
        "test_df.head()"
      ]
    },
    {
      "cell_type": "code",
      "execution_count": null,
      "metadata": {
        "execution": {
          "iopub.execute_input": "2022-09-18T18:17:03.719226Z",
          "iopub.status.busy": "2022-09-18T18:17:03.718842Z",
          "iopub.status.idle": "2022-09-18T18:17:03.726841Z",
          "shell.execute_reply": "2022-09-18T18:17:03.725840Z",
          "shell.execute_reply.started": "2022-09-18T18:17:03.719176Z"
        },
        "id": "iRy9ZjG7jybF"
      },
      "outputs": [],
      "source": [
        "def tag_mapping(data):\n",
        "    labels=set()\n",
        "    for i in range(len(data)):\n",
        "        tags=data['tags'][i].split(' ')\n",
        "        labels.update(tags)\n",
        "    labels=list(labels)\n",
        "    labels.sort()\n",
        "    labels_dict={labels[i]:i for i in range(len(labels))}\n",
        "    inv_labels={i:labels[i] for i in range(len(labels))}\n",
        "    return labels_dict,inv_labels"
      ]
    },
    {
      "cell_type": "code",
      "execution_count": null,
      "metadata": {
        "execution": {
          "iopub.execute_input": "2022-09-18T18:17:03.729068Z",
          "iopub.status.busy": "2022-09-18T18:17:03.728417Z",
          "iopub.status.idle": "2022-09-18T18:17:03.980662Z",
          "shell.execute_reply": "2022-09-18T18:17:03.979729Z",
          "shell.execute_reply.started": "2022-09-18T18:17:03.729030Z"
        },
        "id": "gFpt_FFejybG"
      },
      "outputs": [],
      "source": [
        "label_map,invmap=tag_mapping(train_label)"
      ]
    },
    {
      "cell_type": "code",
      "execution_count": null,
      "metadata": {
        "execution": {
          "iopub.execute_input": "2022-09-18T18:17:03.982618Z",
          "iopub.status.busy": "2022-09-18T18:17:03.982241Z",
          "iopub.status.idle": "2022-09-18T18:17:03.988212Z",
          "shell.execute_reply": "2022-09-18T18:17:03.987136Z",
          "shell.execute_reply.started": "2022-09-18T18:17:03.982581Z"
        },
        "id": "A6c1HtZXjybG"
      },
      "outputs": [],
      "source": [
        "def file_mapping(data):\n",
        "    mapping={}\n",
        "    for i in range(len(data)):\n",
        "        name,tags=train_label['image_name'][i],train_label['tags'][i]\n",
        "        mapping[name]=tags.split(' ')\n",
        "    return mapping"
      ]
    },
    {
      "cell_type": "code",
      "execution_count": null,
      "metadata": {
        "execution": {
          "iopub.execute_input": "2022-09-18T18:17:03.990453Z",
          "iopub.status.busy": "2022-09-18T18:17:03.989801Z",
          "iopub.status.idle": "2022-09-18T18:17:03.999622Z",
          "shell.execute_reply": "2022-09-18T18:17:03.998665Z",
          "shell.execute_reply.started": "2022-09-18T18:17:03.990414Z"
        },
        "id": "R4kDPWMtjybG"
      },
      "outputs": [],
      "source": [
        "def one_hot_encode(tags, mapping):\n",
        "    encoding = np.zeros(len(mapping), dtype='uint8')\n",
        "    for tag in tags:\n",
        "        encoding[mapping[tag]] = 1\n",
        "    return encoding"
      ]
    },
    {
      "cell_type": "code",
      "execution_count": null,
      "metadata": {
        "execution": {
          "iopub.execute_input": "2022-09-18T18:17:04.001684Z",
          "iopub.status.busy": "2022-09-18T18:17:04.001252Z",
          "iopub.status.idle": "2022-09-18T18:17:04.010752Z",
          "shell.execute_reply": "2022-09-18T18:17:04.009749Z",
          "shell.execute_reply.started": "2022-09-18T18:17:04.001640Z"
        },
        "id": "q3u6gbK9jybH"
      },
      "outputs": [],
      "source": [
        "def load_dataset(path,file_mapping,tag_mapping):\n",
        "    photos,targets=list(),list()\n",
        "    for filename in os.listdir(path):\n",
        "        photo=load_img(path+filename,target_size=(75,75))\n",
        "        photo=img_to_array(photo,dtype='uint8')\n",
        "        tags=file_mapping[filename[:-4]]\n",
        "        target=one_hot_encode(tags,tag_mapping)\n",
        "        photos.append(photo)\n",
        "        targets.append(target)\n",
        "    X=np.asarray(photos,dtype='uint8')\n",
        "    y=np.asarray(targets,dtype='uint8')\n",
        "    return X,y"
      ]
    },
    {
      "cell_type": "code",
      "execution_count": null,
      "metadata": {
        "execution": {
          "iopub.execute_input": "2022-09-18T18:17:04.012403Z",
          "iopub.status.busy": "2022-09-18T18:17:04.011985Z",
          "iopub.status.idle": "2022-09-18T18:21:07.613351Z",
          "shell.execute_reply": "2022-09-18T18:21:07.612303Z",
          "shell.execute_reply.started": "2022-09-18T18:17:04.012368Z"
        },
        "id": "RizER99yjybH"
      },
      "outputs": [],
      "source": [
        "tags_mapping,_=tag_mapping(train_label)\n",
        "files_mapping=file_mapping(train_label)\n",
        "path='/content/planet/planet/train-jpg/'\n",
        "X,y=load_dataset(path,files_mapping,tags_mapping)"
      ]
    },
    {
      "cell_type": "code",
      "execution_count": null,
      "metadata": {
        "execution": {
          "iopub.execute_input": "2022-09-18T18:21:07.615641Z",
          "iopub.status.busy": "2022-09-18T18:21:07.614761Z",
          "iopub.status.idle": "2022-09-18T18:21:08.246455Z",
          "shell.execute_reply": "2022-09-18T18:21:08.245441Z",
          "shell.execute_reply.started": "2022-09-18T18:21:07.615604Z"
        },
        "id": "Hj2vYUVmjybH"
      },
      "outputs": [],
      "source": [
        "from sklearn.model_selection import train_test_split\n",
        "from sklearn.metrics import fbeta_score\n",
        "from tensorflow.keras.preprocessing.image import ImageDataGenerator\n",
        "from tensorflow.keras.optimizers import SGD, RMSprop"
      ]
    },
    {
      "cell_type": "code",
      "execution_count": null,
      "metadata": {
        "execution": {
          "iopub.execute_input": "2022-09-18T18:26:20.623555Z",
          "iopub.status.busy": "2022-09-18T18:26:20.623126Z",
          "iopub.status.idle": "2022-09-18T18:26:20.800887Z",
          "shell.execute_reply": "2022-09-18T18:26:20.799815Z",
          "shell.execute_reply.started": "2022-09-18T18:26:20.623522Z"
        },
        "id": "xe0BxAXCjybI"
      },
      "outputs": [],
      "source": [
        "X_train, X_test, y_train, y_test = train_test_split(X, y, test_size=0.3, random_state=1)"
      ]
    },
    {
      "cell_type": "code",
      "execution_count": null,
      "metadata": {
        "execution": {
          "iopub.execute_input": "2022-09-18T18:26:23.200999Z",
          "iopub.status.busy": "2022-09-18T18:26:23.200638Z",
          "iopub.status.idle": "2022-09-18T18:26:23.208301Z",
          "shell.execute_reply": "2022-09-18T18:26:23.207234Z",
          "shell.execute_reply.started": "2022-09-18T18:26:23.200969Z"
        },
        "id": "aDQydNV1jybI"
      },
      "outputs": [],
      "source": [
        "def fbeta(y_true, y_pred, beta=2):\n",
        "    y_pred = backend.clip(y_pred, 0, 1)\n",
        "\n",
        "    tp = backend.sum(backend.round(backend.clip(y_true * y_pred, 0, 1)), axis=1)\n",
        "    fp = backend.sum(backend.round(backend.clip(y_pred - y_true, 0, 1)), axis=1)\n",
        "    fn = backend.sum(backend.round(backend.clip(y_true - y_pred, 0, 1)), axis=1)\n",
        "    p = tp / (tp + fp + backend.epsilon())\n",
        "    r = tp / (tp + fn + backend.epsilon())\n",
        "    bb = beta ** 2\n",
        "    fbeta_score = backend.mean((1 + bb) * (p * r) / (bb * p + r + backend.epsilon()))\n",
        "    return fbeta_score"
      ]
    },
    {
      "cell_type": "code",
      "execution_count": null,
      "metadata": {
        "execution": {
          "iopub.execute_input": "2022-09-18T18:26:25.419100Z",
          "iopub.status.busy": "2022-09-18T18:26:25.418744Z",
          "iopub.status.idle": "2022-09-18T18:26:31.105451Z",
          "shell.execute_reply": "2022-09-18T18:26:31.104485Z",
          "shell.execute_reply.started": "2022-09-18T18:26:25.419070Z"
        },
        "id": "1CkJrv87jybI"
      },
      "outputs": [],
      "source": [
        "from tensorflow.keras.applications import InceptionV3\n",
        "model=InceptionV3(input_shape=(75,75,3),include_top=False)\n",
        "for layer in model.layers:\n",
        "    layers.trainable=False\n",
        "last_layer=model.get_layer('mixed7')\n",
        "last_output=last_layer.output\n",
        "    \n",
        "x=layers.Flatten()(last_output)\n",
        "x=layers.Dense(256,activation='relu')(x)\n",
        "x=layers.Dense(128,activation='relu')(x)\n",
        "x=layers.Dropout(0.2)(x)\n",
        "x=layers.Dense(17,activation='sigmoid')(x)\n",
        "model=models.Model(model.inputs,x)\n",
        "model.compile(optimizer=RMSprop(lr=0.0001),loss='binary_crossentropy',metrics=[fbeta])"
      ]
    },
    {
      "cell_type": "code",
      "execution_count": null,
      "metadata": {
        "execution": {
          "iopub.execute_input": "2022-09-18T18:26:31.108122Z",
          "iopub.status.busy": "2022-09-18T18:26:31.107450Z",
          "iopub.status.idle": "2022-09-18T18:26:31.113607Z",
          "shell.execute_reply": "2022-09-18T18:26:31.112745Z",
          "shell.execute_reply.started": "2022-09-18T18:26:31.108084Z"
        },
        "id": "URflS6eLjybJ"
      },
      "outputs": [],
      "source": [
        "train_datagen=ImageDataGenerator(rescale=1.0/255.0)\n",
        "test_datagen=ImageDataGenerator(rescale=1.0/255.0)\n",
        "# ,horizontal_flip=False, vertical_flip=False, rotation_range=90"
      ]
    },
    {
      "cell_type": "code",
      "execution_count": null,
      "metadata": {
        "execution": {
          "iopub.execute_input": "2022-09-18T18:26:35.262322Z",
          "iopub.status.busy": "2022-09-18T18:26:35.261341Z",
          "iopub.status.idle": "2022-09-18T18:26:35.925988Z",
          "shell.execute_reply": "2022-09-18T18:26:35.925003Z",
          "shell.execute_reply.started": "2022-09-18T18:26:35.262283Z"
        },
        "id": "sAqK6YC3jybJ"
      },
      "outputs": [],
      "source": [
        "# train_gen=train_datagen.flow(X_train,y_train,batch_size=64)\n",
        "# test_gen=test_datagen.flow(X_test,y_test,batch_size=64)"
      ]
    },
    {
      "cell_type": "code",
      "execution_count": null,
      "metadata": {
        "execution": {
          "iopub.execute_input": "2022-09-18T18:26:38.234329Z",
          "iopub.status.busy": "2022-09-18T18:26:38.233973Z",
          "iopub.status.idle": "2022-09-18T18:27:46.623703Z",
          "shell.execute_reply": "2022-09-18T18:27:46.622656Z",
          "shell.execute_reply.started": "2022-09-18T18:26:38.234301Z"
        },
        "id": "UB-onLEdjybJ"
      },
      "outputs": [],
      "source": [
        "# history = model.fit(train_gen,steps_per_epoch=506,validation_data=test_gen, validation_steps=127, epochs=50, verbose=0)"
      ]
    },
    {
      "cell_type": "code",
      "source": [
        "train_gen=train_datagen.flow(X_train,y_train,batch_size=32)\n",
        "test_gen=test_datagen.flow(X_test,y_test,batch_size=32)"
      ],
      "metadata": {
        "id": "0EVQ5hbUqo5L"
      },
      "execution_count": null,
      "outputs": []
    },
    {
      "cell_type": "code",
      "source": [
        "history = model.fit(train_gen,steps_per_epoch=128,validation_data=test_gen, validation_steps=128, epochs=10, verbose=0)"
      ],
      "metadata": {
        "id": "kKVSjYs2qr06"
      },
      "execution_count": null,
      "outputs": []
    },
    {
      "cell_type": "code",
      "execution_count": null,
      "metadata": {
        "execution": {
          "iopub.execute_input": "2022-09-18T18:27:46.626746Z",
          "iopub.status.busy": "2022-09-18T18:27:46.626043Z",
          "iopub.status.idle": "2022-09-18T18:27:46.918626Z",
          "shell.execute_reply": "2022-09-18T18:27:46.917552Z",
          "shell.execute_reply.started": "2022-09-18T18:27:46.626707Z"
        },
        "id": "_V60VAoUjybK"
      },
      "outputs": [],
      "source": [
        "loss, fbeta =model.evaluate_generator(test_gen, steps=8, verbose=0)\n",
        "print('> loss=%.3f, fbeta=%.3f' % (loss, fbeta))"
      ]
    },
    {
      "cell_type": "code",
      "execution_count": null,
      "metadata": {
        "execution": {
          "iopub.execute_input": "2022-09-18T18:27:46.922046Z",
          "iopub.status.busy": "2022-09-18T18:27:46.921745Z",
          "iopub.status.idle": "2022-09-18T18:27:46.931181Z",
          "shell.execute_reply": "2022-09-18T18:27:46.929985Z",
          "shell.execute_reply.started": "2022-09-18T18:27:46.922018Z"
        },
        "id": "Yi3HPQMbjybK"
      },
      "outputs": [],
      "source": [
        "history.history['fbeta']"
      ]
    },
    {
      "cell_type": "code",
      "execution_count": null,
      "metadata": {
        "execution": {
          "iopub.execute_input": "2022-09-18T18:34:14.895428Z",
          "iopub.status.busy": "2022-09-18T18:34:14.895039Z",
          "iopub.status.idle": "2022-09-18T18:34:14.900681Z",
          "shell.execute_reply": "2022-09-18T18:34:14.899559Z",
          "shell.execute_reply.started": "2022-09-18T18:34:14.895398Z"
        },
        "id": "OC0VND0sjybK"
      },
      "outputs": [],
      "source": [
        "test_data1='/content/planet/planet/test-jpg/'\n",
        "test_data2='/content/test-jpg-additional/test-jpg-additional/'"
      ]
    },
    {
      "cell_type": "code",
      "execution_count": null,
      "metadata": {
        "execution": {
          "iopub.execute_input": "2022-09-18T18:34:55.185892Z",
          "iopub.status.busy": "2022-09-18T18:34:55.185446Z",
          "iopub.status.idle": "2022-09-18T18:34:55.283615Z",
          "shell.execute_reply": "2022-09-18T18:34:55.281857Z",
          "shell.execute_reply.started": "2022-09-18T18:34:55.185856Z"
        },
        "id": "CNaCvqvIjybL"
      },
      "outputs": [],
      "source": [
        "submission_df=pd.read_csv('/content/sample_submission_v2.csv/sample_submission_v2.csv')"
      ]
    },
    {
      "cell_type": "code",
      "execution_count": null,
      "metadata": {
        "execution": {
          "iopub.execute_input": "2022-09-18T18:35:19.802688Z",
          "iopub.status.busy": "2022-09-18T18:35:19.802303Z",
          "iopub.status.idle": "2022-09-18T18:44:36.656448Z",
          "shell.execute_reply": "2022-09-18T18:44:36.655434Z",
          "shell.execute_reply.started": "2022-09-18T18:35:19.802657Z"
        },
        "id": "4kc1hjipjybL"
      },
      "outputs": [],
      "source": [
        "photo_test=[]\n",
        "for filename in submission_df['image_name']:\n",
        "    if filename[:1]=='t':\n",
        "        img=load_img(test_data1+filename+'.jpg',target_size=(75,75))\n",
        "    elif filename[:1]=='f':\n",
        "        img=load_img(test_data2+filename+'.jpg',target_size=(75,75))\n",
        "    ph=img_to_array(img,dtype='uint8')\n",
        "    photo_test.append(ph)"
      ]
    },
    {
      "cell_type": "code",
      "execution_count": null,
      "metadata": {
        "execution": {
          "iopub.execute_input": "2022-09-18T18:44:36.660315Z",
          "iopub.status.busy": "2022-09-18T18:44:36.660019Z",
          "iopub.status.idle": "2022-09-18T18:44:38.002415Z",
          "shell.execute_reply": "2022-09-18T18:44:38.001395Z",
          "shell.execute_reply.started": "2022-09-18T18:44:36.660289Z"
        },
        "id": "uzbBX90gjybL"
      },
      "outputs": [],
      "source": [
        "test_X=np.asarray(photo_test,dtype='uint8')"
      ]
    },
    {
      "cell_type": "code",
      "execution_count": null,
      "metadata": {
        "execution": {
          "iopub.execute_input": "2022-09-18T18:46:46.114586Z",
          "iopub.status.busy": "2022-09-18T18:46:46.114185Z",
          "iopub.status.idle": "2022-09-18T18:46:51.157855Z",
          "shell.execute_reply": "2022-09-18T18:46:51.156771Z",
          "shell.execute_reply.started": "2022-09-18T18:46:46.114550Z"
        },
        "id": "4iHa8h02jybL"
      },
      "outputs": [],
      "source": [
        "image_gen_test=ImageDataGenerator(rescale=1/255.0)\n",
        "test_data_gen=image_gen_test.flow(test_X,shuffle=False,batch_size=1024)"
      ]
    },
    {
      "cell_type": "code",
      "execution_count": null,
      "metadata": {
        "execution": {
          "iopub.execute_input": "2022-09-18T18:46:51.164548Z",
          "iopub.status.busy": "2022-09-18T18:46:51.162633Z",
          "iopub.status.idle": "2022-09-18T18:47:13.037081Z",
          "shell.execute_reply": "2022-09-18T18:47:13.036059Z",
          "shell.execute_reply.started": "2022-09-18T18:46:51.164505Z"
        },
        "id": "QSyLGqO0jybL"
      },
      "outputs": [],
      "source": [
        "prediction=model.predict(test_data_gen)"
      ]
    },
    {
      "cell_type": "code",
      "execution_count": null,
      "metadata": {
        "execution": {
          "iopub.execute_input": "2022-09-18T18:47:35.250372Z",
          "iopub.status.busy": "2022-09-18T18:47:35.249991Z",
          "iopub.status.idle": "2022-09-18T18:47:35.264339Z",
          "shell.execute_reply": "2022-09-18T18:47:35.263269Z",
          "shell.execute_reply.started": "2022-09-18T18:47:35.250343Z"
        },
        "id": "VEILePRSjybL"
      },
      "outputs": [],
      "source": [
        "answer=pd.DataFrame(prediction,columns=tags_mapping.keys())"
      ]
    },
    {
      "cell_type": "code",
      "execution_count": null,
      "metadata": {
        "execution": {
          "iopub.execute_input": "2022-09-18T18:47:44.862110Z",
          "iopub.status.busy": "2022-09-18T18:47:44.861419Z",
          "iopub.status.idle": "2022-09-18T18:47:51.822543Z",
          "shell.execute_reply": "2022-09-18T18:47:51.821571Z",
          "shell.execute_reply.started": "2022-09-18T18:47:44.862077Z"
        },
        "id": "O3ckNh8gjybM"
      },
      "outputs": [],
      "source": [
        "tags=answer.columns\n",
        "pred_tags=answer.apply(lambda x: ' '.join(tags[x>0.5]),axis=1)"
      ]
    },
    {
      "cell_type": "code",
      "execution_count": null,
      "metadata": {
        "execution": {
          "iopub.execute_input": "2022-09-18T18:47:51.824831Z",
          "iopub.status.busy": "2022-09-18T18:47:51.824418Z",
          "iopub.status.idle": "2022-09-18T18:47:51.830445Z",
          "shell.execute_reply": "2022-09-18T18:47:51.829284Z",
          "shell.execute_reply.started": "2022-09-18T18:47:51.824792Z"
        },
        "id": "Q3ItGNM1jybM"
      },
      "outputs": [],
      "source": [
        "pred_tag=pd.DataFrame(pred_tags,columns=['tags'])"
      ]
    },
    {
      "cell_type": "code",
      "execution_count": null,
      "metadata": {
        "execution": {
          "iopub.execute_input": "2022-09-18T18:48:12.720053Z",
          "iopub.status.busy": "2022-09-18T18:48:12.719381Z",
          "iopub.status.idle": "2022-09-18T18:48:12.736972Z",
          "shell.execute_reply": "2022-09-18T18:48:12.735989Z",
          "shell.execute_reply.started": "2022-09-18T18:48:12.720018Z"
        },
        "id": "eR_BILeijybM"
      },
      "outputs": [],
      "source": [
        "submission_df['tags']=pred_tag['tags']"
      ]
    },
    {
      "cell_type": "code",
      "execution_count": null,
      "metadata": {
        "execution": {
          "iopub.execute_input": "2022-09-18T18:48:51.074409Z",
          "iopub.status.busy": "2022-09-18T18:48:51.073515Z",
          "iopub.status.idle": "2022-09-18T18:48:51.234809Z",
          "shell.execute_reply": "2022-09-18T18:48:51.233212Z",
          "shell.execute_reply.started": "2022-09-18T18:48:51.074372Z"
        },
        "id": "JEgzhbeAjybM"
      },
      "outputs": [],
      "source": [
        "submission_df.to_csv('ayusuf_submission.csv',index=False)"
      ]
    },
    {
      "cell_type": "code",
      "execution_count": null,
      "metadata": {
        "execution": {
          "iopub.execute_input": "2022-09-18T18:49:17.386132Z",
          "iopub.status.busy": "2022-09-18T18:49:17.385764Z",
          "iopub.status.idle": "2022-09-18T18:49:17.398186Z",
          "shell.execute_reply": "2022-09-18T18:49:17.397169Z",
          "shell.execute_reply.started": "2022-09-18T18:49:17.386102Z"
        },
        "id": "QNtCGtncjybM"
      },
      "outputs": [],
      "source": [
        "submission_df.head(10)"
      ]
    },
    {
      "cell_type": "code",
      "execution_count": null,
      "metadata": {
        "id": "mLgwkESajybN"
      },
      "outputs": [],
      "source": []
    }
  ],
  "metadata": {
    "kernelspec": {
      "display_name": "Python 3",
      "language": "python",
      "name": "python3"
    },
    "language_info": {
      "codemirror_mode": {
        "name": "ipython",
        "version": 3
      },
      "file_extension": ".py",
      "mimetype": "text/x-python",
      "name": "python",
      "nbconvert_exporter": "python",
      "pygments_lexer": "ipython3",
      "version": "3.8.8"
    },
    "colab": {
      "provenance": [],
      "collapsed_sections": []
    },
    "accelerator": "GPU"
  },
  "nbformat": 4,
  "nbformat_minor": 0
}