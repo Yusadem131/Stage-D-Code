{
  "nbformat": 4,
  "nbformat_minor": 0,
  "metadata": {
    "colab": {
      "private_outputs": true,
      "provenance": [],
      "authorship_tag": "ABX9TyM/K8LvYzEO1sx2pwFdWpsi",
      "include_colab_link": true
    },
    "kernelspec": {
      "name": "python3",
      "display_name": "Python 3"
    },
    "language_info": {
      "name": "python"
    }
  },
  "cells": [
    {
      "cell_type": "markdown",
      "metadata": {
        "id": "view-in-github",
        "colab_type": "text"
      },
      "source": [
        "<a href=\"https://colab.research.google.com/github/Yusadem131/Stage-D-Code/blob/main/Wrangling_time_series_pynb.ipynb\" target=\"_parent\"><img src=\"https://colab.research.google.com/assets/colab-badge.svg\" alt=\"Open In Colab\"/></a>"
      ]
    },
    {
      "cell_type": "code",
      "execution_count": null,
      "metadata": {
        "id": "aXqvfaokr7Rs"
      },
      "outputs": [],
      "source": [
        "import numpy as np \n",
        "import pandas as pd \n",
        "import matplotlib.pyplot as plt \n",
        "\n"
      ]
    },
    {
      "cell_type": "code",
      "source": [
        "df=pd.read_csv( \"https://raw.githubusercontent.com/jbrownlee/Datasets/master/airline-passengers.csv\" ) "
      ],
      "metadata": {
        "id": "n7NiN8KosjKa"
      },
      "execution_count": null,
      "outputs": []
    },
    {
      "cell_type": "code",
      "source": [
        "df[ \"Month\" ] = pd.to_datetime(df[ \"Month\" ]) #convert column to datetime \n",
        "df.set_index( \"Month\" , inplace= True ) \n",
        "plt.figure(figsize=( 10 , 6 )) \n",
        "plt.plot(df.index, df.Passengers, '--' , marker= '*' , ) \n",
        "plt.grid() \n",
        "plt.xlabel( 'Year' ) \n",
        "plt.ylabel( 'Passengers' ) "
      ],
      "metadata": {
        "id": "lc3QzpL-smTK"
      },
      "execution_count": null,
      "outputs": []
    },
    {
      "cell_type": "code",
      "source": [
        "#check for missing values \n",
        "df.isnull().values.any() \n"
      ],
      "metadata": {
        "id": "XzBjIQvBswP-"
      },
      "execution_count": null,
      "outputs": []
    },
    {
      "cell_type": "code",
      "source": [
        "#missing values, we will make a copy of our dataset and delete some values at random. \n",
        "df_copy = df.copy() \n",
        "rows = df_copy.sample(frac= 0.1 , random_state= 0 ) \n",
        "rows[ 'Passengers' ] = np.nan \n",
        "df_copy.loc[rows.index, 'Passengers' ] = rows[ 'Passengers' ] \n",
        "df_copy.isnull().sum()\n",
        "#There are now 14 missing values in the dataset "
      ],
      "metadata": {
        "id": "iC27uCe5tBn7"
      },
      "execution_count": null,
      "outputs": []
    },
    {
      "cell_type": "code",
      "source": [
        "#Filling missing data by imputation - Forward fill \n",
        "df_copy_ffill = df_copy.fillna(method= 'ffill' ) \n",
        "df_copy_ffill.isnull().sum() "
      ],
      "metadata": {
        "id": "qSZ_TAvDtJnP"
      },
      "execution_count": null,
      "outputs": []
    },
    {
      "cell_type": "code",
      "source": [
        "#Filling missing data by imputation - Backward fill \n",
        "df_copy_bfill = df_copy.fillna(method= 'bfill' ) \n",
        "df_copy_bfill.isnull().sum()"
      ],
      "metadata": {
        "id": "TwkzsVsttW3y"
      },
      "execution_count": null,
      "outputs": []
    },
    {
      "cell_type": "code",
      "source": [
        "#Filling missing data by interpolation \n",
        "df_copy_LIF = df_copy.interpolate(method= 'linear' , limit_direction= 'forward' ) \n",
        "df_copy_LIF.isnull().sum() \n",
        "df_copy_LIB = df_copy.interpolate(method= 'linear' , limit_direction= 'backward' ) \n",
        "df_copy_LIB.isnull().sum() "
      ],
      "metadata": {
        "id": "iVoJy40wtfAq"
      },
      "execution_count": null,
      "outputs": []
    },
    {
      "cell_type": "code",
      "source": [
        "#Downsampling and Upsampling \n",
        "#Downsample to quarterly data points \n",
        "df_quarterly = df.resample( '3M' ).mean() \n"
      ],
      "metadata": {
        "id": "WQIP0_wktlXD"
      },
      "execution_count": null,
      "outputs": []
    },
    {
      "cell_type": "code",
      "source": [
        "#Upsample to daily data points \n",
        "df_daily = df.resample( 'D' ).mean() "
      ],
      "metadata": {
        "id": "VGh0lKe6tr2y"
      },
      "execution_count": null,
      "outputs": []
    },
    {
      "cell_type": "code",
      "source": [
        "df_MA = df.copy() \n",
        "MA = df_MA[ 'Passengers' ].rolling( 12 ).mean()"
      ],
      "metadata": {
        "id": "FxLFtmqWuAfG"
      },
      "execution_count": null,
      "outputs": []
    },
    {
      "cell_type": "code",
      "source": [
        "#Time Series Specific Exploratory Methods \n",
        "import statsmodels.api as sm \n",
        "from pylab import rcParams \n",
        "rcParams[ 'figure.figsize' ] = 15 , 8 \n",
        "decompose_series = sm.tsa.seasonal_decompose(df[ 'Passengers' ], model= 'additive' ) \n",
        "decompose_series.plot() \n",
        "plt.show() \n",
        "#The decomposed time series show an obvious increasing trend and seasonality variations. \n",
        "#Recall that we have initially plotted the moving average on the last 12 months which showed \n",
        "#that it varies with time. This suggests that the data is not stationary. We will now perform \n",
        "#an ADF test to confirm this speculation "
      ],
      "metadata": {
        "id": "hHrzcE7CuEjm"
      },
      "execution_count": null,
      "outputs": []
    },
    {
      "cell_type": "code",
      "source": [
        "from statsmodels.tsa.stattools import adfuller \n",
        "adf_result = adfuller(df['Passengers']) \n",
        "print(f'ADF Statistic: {adf_result[0]}')\n",
        "print( f'p-value: {adf_result[1]}') \n",
        "print( f'No. of lags used: {adf_result[2]}') \n",
        "print( f'No. of observations used : {adf_result[3]}') \n",
        "print('Critical Values:') \n",
        "for k, v in adf_result[4].items(): \n",
        " print( f' {k} : {v} ' ) \n",
        "\n",
        " #From the results obtained, the p-value is greater than the critical value at a 5% \n",
        "#significance level and, the ADF statistic is greater that any of the critical values \n",
        "obtain. #This confirms that the series is indeed non-stationary. "
      ],
      "metadata": {
        "id": "oVFYYFuzuLPD"
      },
      "execution_count": null,
      "outputs": []
    },
    {
      "cell_type": "code",
      "source": [],
      "metadata": {
        "id": "04g4FVHgusKy"
      },
      "execution_count": null,
      "outputs": []
    },
    {
      "cell_type": "code",
      "source": [],
      "metadata": {
        "id": "Vi1zGC3GvKKR"
      },
      "execution_count": null,
      "outputs": []
    }
  ]
}